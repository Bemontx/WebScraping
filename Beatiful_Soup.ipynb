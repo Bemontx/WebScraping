{
 "cells": [
  {
   "cell_type": "code",
   "execution_count": 1,
   "metadata": {},
   "outputs": [],
   "source": [
    "from bs4 import BeautifulSoup\n",
    "import requests\n",
    "import re\n",
    "import pandas as pd\n",
    "\n",
    "URL = 'https://cuspide.com/100-mas-vendidos/'\n",
    "peticion= requests.get(URL)\n",
    "html = peticion.text\n",
    "\n",
    "soup = BeautifulSoup(html, 'html.parser')\n",
    "\n",
    "libros = soup.find_all(class_=[\"woocommerce-loop-product__title\"], string=re.compile(\"\"))  \n",
    "bdi = soup.find_all('bdi')"
   ]
  },
  {
   "cell_type": "code",
   "execution_count": 2,
   "metadata": {},
   "outputs": [],
   "source": [
    "data = {'Libros': [], 'Precio': []}\n",
    "df = pd.DataFrame(data)"
   ]
  },
  {
   "cell_type": "code",
   "execution_count": 3,
   "metadata": {},
   "outputs": [],
   "source": [
    "for i,j in zip(libros,bdi):\n",
    "    libro = i.text\n",
    "    precio = j.text \n",
    "    df = pd.concat([df, pd.DataFrame({'Libros': [libro], 'Precio': [precio]})], ignore_index=True)"
   ]
  },
  {
   "cell_type": "code",
   "execution_count": 4,
   "metadata": {},
   "outputs": [
    {
     "data": {
      "text/html": [
       "<div>\n",
       "<style scoped>\n",
       "    .dataframe tbody tr th:only-of-type {\n",
       "        vertical-align: middle;\n",
       "    }\n",
       "\n",
       "    .dataframe tbody tr th {\n",
       "        vertical-align: top;\n",
       "    }\n",
       "\n",
       "    .dataframe thead th {\n",
       "        text-align: right;\n",
       "    }\n",
       "</style>\n",
       "<table border=\"1\" class=\"dataframe\">\n",
       "  <thead>\n",
       "    <tr style=\"text-align: right;\">\n",
       "      <th></th>\n",
       "      <th>Libros</th>\n",
       "      <th>Precio</th>\n",
       "    </tr>\n",
       "  </thead>\n",
       "  <tbody>\n",
       "    <tr>\n",
       "      <th>0</th>\n",
       "      <td>LA CASA NEVILLE . LA FORMIDABLE SEÑORITA  MANON</td>\n",
       "      <td>$ 0,00</td>\n",
       "    </tr>\n",
       "    <tr>\n",
       "      <th>1</th>\n",
       "      <td>ESTE DOLOR NO ES MIO</td>\n",
       "      <td>$ 11.900,00</td>\n",
       "    </tr>\n",
       "    <tr>\n",
       "      <th>2</th>\n",
       "      <td>OXIDO</td>\n",
       "      <td>$ 11.500,00</td>\n",
       "    </tr>\n",
       "    <tr>\n",
       "      <th>3</th>\n",
       "      <td>EL PROBLEMA FINAL</td>\n",
       "      <td>$ 12.999,00</td>\n",
       "    </tr>\n",
       "    <tr>\n",
       "      <th>4</th>\n",
       "      <td>ARTIFICIAL</td>\n",
       "      <td>$ 10.699,00</td>\n",
       "    </tr>\n",
       "    <tr>\n",
       "      <th>...</th>\n",
       "      <td>...</td>\n",
       "      <td>...</td>\n",
       "    </tr>\n",
       "    <tr>\n",
       "      <th>85</th>\n",
       "      <td>MESSI , CAMPEON DEL MUNDO</td>\n",
       "      <td>$ 9.699,00</td>\n",
       "    </tr>\n",
       "    <tr>\n",
       "      <th>86</th>\n",
       "      <td>EL ETERNAUTA ( ED . ECONOMICA )</td>\n",
       "      <td>$ 5.990,00</td>\n",
       "    </tr>\n",
       "    <tr>\n",
       "      <th>87</th>\n",
       "      <td>EL LOCO</td>\n",
       "      <td>$ 11.900,00</td>\n",
       "    </tr>\n",
       "    <tr>\n",
       "      <th>88</th>\n",
       "      <td>WINNIE THE POOH / MI PRIMERA MIRADA A LA TIERR...</td>\n",
       "      <td>$ 8.600,00</td>\n",
       "    </tr>\n",
       "    <tr>\n",
       "      <th>89</th>\n",
       "      <td>QUIZ BOOK - FUTBOL MUNDIAL</td>\n",
       "      <td>$ 400,00</td>\n",
       "    </tr>\n",
       "  </tbody>\n",
       "</table>\n",
       "<p>90 rows × 2 columns</p>\n",
       "</div>"
      ],
      "text/plain": [
       "                                               Libros       Precio\n",
       "0     LA CASA NEVILLE . LA FORMIDABLE SEÑORITA  MANON       $ 0,00\n",
       "1                                ESTE DOLOR NO ES MIO  $ 11.900,00\n",
       "2                                               OXIDO  $ 11.500,00\n",
       "3                                   EL PROBLEMA FINAL  $ 12.999,00\n",
       "4                                          ARTIFICIAL  $ 10.699,00\n",
       "..                                                ...          ...\n",
       "85                          MESSI , CAMPEON DEL MUNDO   $ 9.699,00\n",
       "86                    EL ETERNAUTA ( ED . ECONOMICA )   $ 5.990,00\n",
       "87                                            EL LOCO  $ 11.900,00\n",
       "88  WINNIE THE POOH / MI PRIMERA MIRADA A LA TIERR...   $ 8.600,00\n",
       "89                         QUIZ BOOK - FUTBOL MUNDIAL     $ 400,00\n",
       "\n",
       "[90 rows x 2 columns]"
      ]
     },
     "execution_count": 4,
     "metadata": {},
     "output_type": "execute_result"
    }
   ],
   "source": [
    "df"
   ]
  },
  {
   "cell_type": "code",
   "execution_count": 15,
   "metadata": {},
   "outputs": [],
   "source": [
    "def alphabets(element):\n",
    "    return \"\".join(filter(str.isalpha, element))"
   ]
  },
  {
   "cell_type": "code",
   "execution_count": 16,
   "metadata": {},
   "outputs": [],
   "source": [
    "df['Libros'] = df['Libros'].str.replace('\\d+', '', regex=True)\n",
    "df['Libros'] = [alphabets(x) for x in df['Libros']]\n",
    "df['Precio'] = df['Precio'].str.replace('[^0-9]', '', regex=True)\n",
    "df.to_csv('libros.csv', index= False)\n"
   ]
  },
  {
   "cell_type": "code",
   "execution_count": null,
   "metadata": {},
   "outputs": [],
   "source": [
    "# # Guardar el DataFrame en un archivo CSV\n",
    "# df['Precio'] = df['Precio'].str.replace('$', '')  \n",
    "# df['Precio'] = df['Precio'].str.replace('.', '')  \n",
    "# df['Precio'] = df['Precio'].str.replace(',', '')\n",
    "# df.to_csv('libros.csv', index= False)\n",
    "\n",
    "# print(df)"
   ]
  }
 ],
 "metadata": {
  "kernelspec": {
   "display_name": "Python 3",
   "language": "python",
   "name": "python3"
  },
  "language_info": {
   "codemirror_mode": {
    "name": "ipython",
    "version": 3
   },
   "file_extension": ".py",
   "mimetype": "text/x-python",
   "name": "python",
   "nbconvert_exporter": "python",
   "pygments_lexer": "ipython3",
   "version": "3.10.12"
  },
  "orig_nbformat": 4
 },
 "nbformat": 4,
 "nbformat_minor": 2
}
